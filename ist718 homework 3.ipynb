{
 "cells": [
  {
   "cell_type": "markdown",
   "metadata": {},
   "source": [
    "##### Grading Feedback Cell"
   ]
  },
  {
   "cell_type": "markdown",
   "metadata": {},
   "source": [
    "# IST 718: Big Data Analytics\n",
    "\n",
    "- Prepared by: Prof Willard Williamson <wewillia@syr.edu>\n",
    "- Modified by: Prof Humayun Khan <hhkhan@syr.edu>\n",
    "- Faculty Assistant: Eashani Deorukhkar <edeorukh@syr.edu>\n",
    "- Faculty Assistant: Yash Kapadia <ykapadia@syr.edu>\n",
    "\n",
    "## General instructions:\n",
    "\n",
    "- You are welcome to discuss the problems with your classmates but __you are not allowed to copy any part of your answers from your classmates.  Short code snippets are allowed from the internet.  Code from the class text books or class provided code can be copied in its entirety.__\n",
    "- __Do not change homework file names.__ The FAs and the professor use these names to grade your homework.  Changing file names may result in a point reduction penalty.\n",
    "- There could be tests in some cells (i.e., `assert` and `np.testing.` statements). These tests (if present) are used to grade your answers. **However, the professor and FAs could use __additional__ test for your answer. Think about cases where your code should run even if it passess all the tests you see.**\n",
    "- Before submitting your work, remember to check for run time errors with the following procedure:\n",
    "`Kernel`$\\rightarrow$`Restart and Run All`.  All runtime errors will result in a minimum penalty of half off.\n",
    "- Data Bricks is the official class runtime environment so you should test your code on Data Bricks before submission.  If there is a runtime problem in the grading environment, we will try your code on Data Bricks before making a final grading decision.\n",
    "- All plots shall include a title, and axis labels.\n",
    "- Grading feedback cells are there for graders to provide feedback to students.  Don't change or remove grading feedback cells.\n",
    "- Don't add or remove files from your git repo.\n",
    "- Do not change file names in your repo.  This also means don't change the title of the ipython notebook.\n",
    "- __Only use spark, spark machine learning, spark data frames, RDD's, and map reduce to solve all problems unless instructed otherwise.__"
   ]
  },
  {
   "cell_type": "code",
   "execution_count": 1,
   "metadata": {
    "deletable": false,
    "editable": false,
    "nbgrader": {
     "checksum": "34b858b2a4dae4c0c6569a235758d7e7",
     "grade": true,
     "grade_id": "cell-16fe9b731c74bdb1",
     "locked": true,
     "points": 5,
     "schema_version": 1,
     "solution": false
    }
   },
   "outputs": [],
   "source": [
    "# read only cell\n",
    "\n",
    "import os\n",
    "\n",
    "# get the databricks runtime version\n",
    "db_env = os.getenv(\"DATABRICKS_RUNTIME_VERSION\")\n",
    "\n",
    "# Define a function to read the data file.  The full path data file name is constructed\n",
    "# by checking runtime environment variables to determine if the runtime environment is \n",
    "# databricks, or a student's personal computer.  The full path file name is then\n",
    "# constructed based on the runtime env.\n",
    "# \n",
    "# Params\n",
    "#   data_file_name: The base name of the data file to load\n",
    "# \n",
    "# Returns the full path file name based on the runtime env\n",
    "#\n",
    "def get_training_filename(data_file_name):    \n",
    "    # if the databricks env var exists\n",
    "    if db_env != None:\n",
    "        # build the full path file name assuming data brick env\n",
    "        full_path_name = \"/FileStore/tables/%s\" % data_file_name\n",
    "    # else the data is assumed to be in the same dir as this notebook\n",
    "    else:\n",
    "        # Assume the student is running on their own computer and load the data\n",
    "        # file from the same dir as this notebook\n",
    "        full_path_name = data_file_name\n",
    "    \n",
    "    # return the full path file name to the caller\n",
    "    return full_path_name"
   ]
  },
  {
   "cell_type": "code",
   "execution_count": 2,
   "metadata": {},
   "outputs": [],
   "source": [
    "# import statements here\n",
    "# create spark and sparkcontext objects\n",
    "import findspark\n",
    "findspark.init()\n",
    "import pyspark\n",
    "\n",
    "from pyspark.sql import SparkSession\n",
    "from pyspark.sql import Row\n",
    "\n",
    "import numpy as np\n",
    "import pandas as pd\n",
    "import matplotlib.pyplot as plt\n",
    "spark = SparkSession.builder.getOrCreate()\n",
    "sc = spark.sparkContext"
   ]
  },
  {
   "cell_type": "markdown",
   "metadata": {},
   "source": [
    "# Moore's Law\n",
    "The frequently cited “Moore’s Law” originated with a 1965 article in Electronics magazine that said the number of transistors in a given area would double every year."
   ]
  },
  {
   "cell_type": "markdown",
   "metadata": {},
   "source": [
    "### ONLY use spark functions unless the question instructions say otherwise."
   ]
  },
  {
   "cell_type": "markdown",
   "metadata": {},
   "source": [
    "## Question 1 Load the Transistor Data (5 pts)\n",
    "- Read the MooresLaw.txt file into a spark data frame named trans_df using only spark.  The columns should be named as per the header in the txt file.\n",
    "- Print the first 5 rows of trans_df \n",
    "- Print the shape of trans_df (num_rows, num_cols)\n",
    "- Make sure to use the get_training_filename function above to obtain the file name based on your runtime environment"
   ]
  },
  {
   "cell_type": "code",
   "execution_count": 3,
   "metadata": {},
   "outputs": [
    {
     "name": "stdout",
     "output_type": "stream",
     "text": [
      "+---------------+------+-----------+\n",
      "|Intel Processor|  Year|Transistors|\n",
      "+---------------+------+-----------+\n",
      "|           4004|1971.9|       2300|\n",
      "|           8008|1972.3|       3500|\n",
      "|           8080|1974.3|       6000|\n",
      "|           8085|1976.3|       6500|\n",
      "|           8086|1978.5|      29000|\n",
      "+---------------+------+-----------+\n",
      "only showing top 5 rows\n",
      "\n",
      "None\n",
      "(74, 3)\n"
     ]
    }
   ],
   "source": [
    "# your code here\n",
    "def split(line):\n",
    "    x= line.split(\"\\t\")\n",
    "    return ((x[0],x[1],x[2]))\n",
    "\n",
    "trans_df = sc.textFile(get_training_filename(\"mooresLaw.txt\"))\n",
    "\n",
    "header = trans_df.first()\n",
    "trans_df = trans_df.filter(lambda x: x != header)\n",
    "\n",
    "trans_df=trans_df.map(split)\n",
    "trans_df= spark.createDataFrame(trans_df,['Intel Processor','Year','Transistors'])\n",
    "\n",
    "print(trans_df.show(5))\n",
    "\n",
    "rows = trans_df.count()\n",
    "columns = len(trans_df.columns)\n",
    "shape = (rows, columns)\n",
    "print(shape)"
   ]
  },
  {
   "cell_type": "markdown",
   "metadata": {},
   "source": [
    "##### Grading Feedback Cell"
   ]
  },
  {
   "cell_type": "markdown",
   "metadata": {},
   "source": [
    "## Question 2 Transistor Data Cleanup (5 pts)\n",
    "- Drop all columns in trans_df except the Year and Transistors column.\n",
    "- Drop rows in trans_df that contain NaN vales\n",
    "- Prove that trans_df does not contain NaN values by showing a single integer sum of the number of Nan values in the dataframe (should equal 0)"
   ]
  },
  {
   "cell_type": "code",
   "execution_count": 4,
   "metadata": {},
   "outputs": [
    {
     "name": "stdout",
     "output_type": "stream",
     "text": [
      "+------+-----------+\n",
      "|  Year|Transistors|\n",
      "+------+-----------+\n",
      "|1971.9|       2300|\n",
      "|1972.3|       3500|\n",
      "|1974.3|       6000|\n",
      "|1976.3|       6500|\n",
      "|1978.5|      29000|\n",
      "+------+-----------+\n",
      "only showing top 5 rows\n",
      "\n"
     ]
    },
    {
     "data": {
      "text/plain": [
       "0"
      ]
     },
     "execution_count": 4,
     "metadata": {},
     "output_type": "execute_result"
    }
   ],
   "source": [
    "# your code here\n",
    "trans_df = trans_df.drop('Intel Processor')\n",
    "trans_df.show(5)\n",
    "trans_df = trans_df.na.drop()\n",
    "\n",
    "(trans_df.filter(trans_df['Year'].isNull()).count())+(trans_df.filter(trans_df['Transistors'].isNull()).count())\n"
   ]
  },
  {
   "cell_type": "markdown",
   "metadata": {},
   "source": [
    "##### Grading Feedback Cell"
   ]
  },
  {
   "cell_type": "markdown",
   "metadata": {},
   "source": [
    "## Question 3 Transistor Data Exploration (10 pts)\n"
   ]
  },
  {
   "cell_type": "markdown",
   "metadata": {},
   "source": [
    "### Question 3a (3 pts) \n",
    "Explore the data in trans_df by plotting transistors vs. year with a scatter plot.  You may use packages outside of spark to perform the task in question 3a."
   ]
  },
  {
   "cell_type": "code",
   "execution_count": 5,
   "metadata": {},
   "outputs": [
    {
     "data": {
      "text/plain": [
       "Text(0.5, 1.0, 'Year vs Transistors')"
      ]
     },
     "execution_count": 5,
     "metadata": {},
     "output_type": "execute_result"
    },
    {
     "data": {
      "image/png": "[encoded data removed]",
      "text/plain": [
       "<Figure size 432x288 with 1 Axes>"
      ]
     },
     "metadata": {
      "needs_background": "light"
     },
     "output_type": "display_data"
    }
   ],
   "source": [
    "# Your code here\n",
    "from pyspark.sql.types import *\n",
    "\n",
    "trans_df = trans_df.withColumn(\"Year\",trans_df[\"Year\"].cast(FloatType())).withColumn(\"Transistors\",trans_df[\"Transistors\"].cast(DoubleType()))\n",
    "result_df = trans_df.select(\"*\").toPandas()\n",
    "result_df.plot.scatter(x='Year',y='Transistors')\n",
    "plt.title(\"Transistors vs Year\")"
   ]
  },
  {
   "cell_type": "markdown",
   "metadata": {},
   "source": [
    "##### Grading Feedback Cell"
   ]
  },
  {
   "cell_type": "markdown",
   "metadata": {},
   "source": [
    "### Question 3b (3 pts)\n",
    "Compute the correlation between year and number of transistors in the trans_df using spark.  Print the resulting correlation value.  Interpret the correlation in words in the provided markdown cell."
   ]
  },
  {
   "cell_type": "code",
   "execution_count": 6,
   "metadata": {},
   "outputs": [
    {
     "name": "stdout",
     "output_type": "stream",
     "text": [
      "0.5434354144405446\n"
     ]
    }
   ],
   "source": [
    "# your code here\n",
    "print(trans_df.corr('Year','Transistors','pearson'))"
   ]
  },
  {
   "cell_type": "markdown",
   "metadata": {},
   "source": [
    "##### Grading Feedback Cell"
   ]
  },
  {
   "cell_type": "markdown",
   "metadata": {},
   "source": [
    "### Question 3c (4 pts) \n",
    "- Interpret the correlation value computed above in the markdown cell below."
   ]
  },
  {
   "cell_type": "markdown",
   "metadata": {},
   "source": [
    "Your correlation interpretation here:\n",
    "**The correlation between Year and Transistors is approximately 0.54 which tells us that the strength of dependency between the two variables is 0.54 i.e there is a positive linear relationship between them. The number of transistors increases as the year increases.** "
   ]
  },
  {
   "cell_type": "markdown",
   "metadata": {},
   "source": [
    "##### Grading Feedback Cell"
   ]
  },
  {
   "cell_type": "markdown",
   "metadata": {},
   "source": [
    "## Question 4 Transform the Data (10 pts)"
   ]
  },
  {
   "cell_type": "markdown",
   "metadata": {},
   "source": [
    "### Question 4a (5 pts)\n",
    "- Create a new data frame named trans_df_2 that adds a log transform to the transistors col in trans_df.\n",
    "- Print the head of trans_df_2\n",
    "- Print the shape of trans_df_2"
   ]
  },
  {
   "cell_type": "code",
   "execution_count": 7,
   "metadata": {},
   "outputs": [
    {
     "name": "stdout",
     "output_type": "stream",
     "text": [
      "Row(Year=1971.9000244140625, Transistors=2300.0, log transistors=7.7406644019172415)\n",
      "(74, 3)\n"
     ]
    }
   ],
   "source": [
    "# your code here\n",
    "from pyspark.sql.functions import log\n",
    "\n",
    "trans_df_2 = trans_df.withColumn(\"log transistors\", log(trans_df[\"Transistors\"]))\n",
    "\n",
    "print(trans_df_2.head())\n",
    "\n",
    "rows = trans_df_2.count()\n",
    "columns = len(trans_df_2.columns)\n",
    "shape = (rows, columns)\n",
    "\n",
    "print(shape)\n"
   ]
  },
  {
   "cell_type": "markdown",
   "metadata": {},
   "source": [
    "##### Grading Feedback Cell"
   ]
  },
  {
   "cell_type": "markdown",
   "metadata": {},
   "source": [
    "### Question 4b (5 pts)\n",
    "- Using trans_df_2, create a scatter plot of log transistors vs. year.  You may use packages outside of spark for this task."
   ]
  },
  {
   "cell_type": "code",
   "execution_count": 8,
   "metadata": {},
   "outputs": [
    {
     "data": {
      "text/plain": [
       "Text(0.5, 1.0, 'Year vs log transistors')"
      ]
     },
     "execution_count": 8,
     "metadata": {},
     "output_type": "execute_result"
    },
    {
     "data": {
      "image/png": "[encoded data removed]",
      "text/plain": [
       "<Figure size 432x288 with 1 Axes>"
      ]
     },
     "metadata": {
      "needs_background": "light"
     },
     "output_type": "display_data"
    }
   ],
   "source": [
    "# your code here\n",
    "result_df_2 = trans_df_2.select(\"*\").toPandas()\n",
    "result_df_2.plot.scatter(x='Year',y='log transistors')\n",
    "plt.title(\"log transistors vs Year\")"
   ]
  },
  {
   "cell_type": "markdown",
   "metadata": {},
   "source": [
    "##### Grading Feedback Cell"
   ]
  },
  {
   "cell_type": "markdown",
   "metadata": {},
   "source": [
    "## Question 5 Fit a Linear Regression Pipeline (10 pts)"
   ]
  },
  {
   "cell_type": "markdown",
   "metadata": {},
   "source": [
    "### Question 5a ( 2 pts)\n",
    "- Split trans_df_2 into train and test splits with a 60:40 ratio.  Name the resulting data frames trans_train and trans_test.  Print the shape of of the train and test data frames."
   ]
  },
  {
   "cell_type": "code",
   "execution_count": 9,
   "metadata": {},
   "outputs": [
    {
     "name": "stdout",
     "output_type": "stream",
     "text": [
      "(49, 3)\n",
      "(25, 3)\n"
     ]
    }
   ],
   "source": [
    "# your code here\n",
    "trans_train, trans_test = trans_df_2.randomSplit([0.6, 0.4],seed=1)\n",
    "\n",
    "train_rows = trans_train.count()\n",
    "train_columns = len(trans_train.columns)\n",
    "trans_train_shape = (train_rows, train_columns)\n",
    "print(trans_train_shape)\n",
    "\n",
    "test_rows = trans_test.count()\n",
    "test_columns = len(trans_test.columns)\n",
    "trans_test_shape = (test_rows, test_columns)\n",
    "print(trans_test_shape)"
   ]
  },
  {
   "cell_type": "markdown",
   "metadata": {},
   "source": [
    "##### Grading Feedback Cell"
   ]
  },
  {
   "cell_type": "markdown",
   "metadata": {},
   "source": [
    "### Question 5b (6 pts)\n",
    "- Create a spark pipeline named trans_pipe to perform linear regression\n",
    "- Fit the pipeline using the transistors as the targets and year as the features.  Name the resulting fitted pipeline fitted_trans_pipe.\n",
    "- Fit another pipeline using the log transistors column as the targets and year as the features.  Name the resulting fitted pipeline log_fitted_trans_pipe."
   ]
  },
  {
   "cell_type": "code",
   "execution_count": 10,
   "metadata": {},
   "outputs": [],
   "source": [
    "# your code here\n",
    "from pyspark.ml import feature, regression, evaluation, Pipeline, classification\n",
    "from pyspark.sql import functions as fn, Row\n",
    "\n",
    "va1 = feature.VectorAssembler(inputCols=['Year'], outputCol='features')\n",
    "lr1 = regression.LinearRegression(featuresCol='features', labelCol='Transistors')\n",
    "trans_pipe = Pipeline(stages=[va1, lr1])\n",
    "fitted_trans_pipe = trans_pipe.fit(trans_train)\n",
    "\n",
    "va2 = feature.VectorAssembler(inputCols=['Year'], outputCol='features')\n",
    "lr2 = regression.LinearRegression(featuresCol='features', labelCol='log transistors')\n",
    "trans_pipe_2 = Pipeline(stages=[va2, lr2])\n",
    "log_fitted_trans_pipe = trans_pipe_2.fit(trans_train)"
   ]
  },
  {
   "cell_type": "markdown",
   "metadata": {},
   "source": [
    "##### Grading Feedback Cell"
   ]
  },
  {
   "cell_type": "markdown",
   "metadata": {},
   "source": [
    "### Question 5c (2 pts)\n",
    "- Print the linear regression coefficient in the linear regression object in each fitted model\n",
    "- Print the linear regression Y intercept in the linear regression object in each fitted model"
   ]
  },
  {
   "cell_type": "code",
   "execution_count": 11,
   "metadata": {},
   "outputs": [
    {
     "name": "stdout",
     "output_type": "stream",
     "text": [
      "fitted_trans_pipe model:\n",
      "[72689200.5717004]\n",
      "-144746408658.21796\n",
      "\n",
      "log_fitted_trans_pipe model:\n",
      "[0.33397962786415264]\n",
      "-650.660089327864\n"
     ]
    }
   ],
   "source": [
    "# your code here\n",
    "print('fitted_trans_pipe model:')\n",
    "print(fitted_trans_pipe.stages[1].coefficients)\n",
    "print(fitted_trans_pipe.stages[1].intercept)\n",
    "\n",
    "print('\\nlog_fitted_trans_pipe model:')\n",
    "print(log_fitted_trans_pipe.stages[1].coefficients)\n",
    "print(log_fitted_trans_pipe.stages[1].intercept)"
   ]
  },
  {
   "cell_type": "markdown",
   "metadata": {},
   "source": [
    "##### Grading Feedback Cell"
   ]
  },
  {
   "cell_type": "markdown",
   "metadata": {},
   "source": [
    "### Question 6 Test the linear regression pipeline (10 pts)"
   ]
  },
  {
   "cell_type": "markdown",
   "metadata": {},
   "source": [
    "### Question 6a (5 pts)\n",
    "- Compute mean squared error (MSE) using the transform method on each fitted model.\n",
    "- Print the resulting MSEs."
   ]
  },
  {
   "cell_type": "code",
   "execution_count": 12,
   "metadata": {},
   "outputs": [
    {
     "name": "stdout",
     "output_type": "stream",
     "text": [
      "+---------------------+\n",
      "|fitted_trans_pipe_mse|\n",
      "+---------------------+\n",
      "| 1.120222902313375...|\n",
      "+---------------------+\n",
      "\n",
      "+-------------------------+\n",
      "|log_fitted_trans_pipe_mse|\n",
      "+-------------------------+\n",
      "|       0.5517022169159201|\n",
      "+-------------------------+\n",
      "\n"
     ]
    }
   ],
   "source": [
    "# your code here\n",
    "fitted_trans_pipe.transform(trans_test)\n",
    "mse1 = fn.mean((fn.col('Transistors') - fn.col('prediction'))**2).alias('fitted_trans_pipe_mse')\n",
    "fitted_trans_pipe.transform(trans_test).select(mse1).show()\n",
    "\n",
    "log_fitted_trans_pipe.transform(trans_test)\n",
    "mse2 = fn.mean((fn.col('log transistors') - fn.col('prediction'))**2).alias('log_fitted_trans_pipe_mse')\n",
    "log_fitted_trans_pipe.transform(trans_test).select(mse2).show()"
   ]
  },
  {
   "cell_type": "markdown",
   "metadata": {},
   "source": [
    "##### Grading Feedback Cell"
   ]
  },
  {
   "cell_type": "markdown",
   "metadata": {},
   "source": [
    "### Question 6b (5 pts)\n",
    "- Using log_fitted_trans_pipe and any needed support code, predict and print the number of transistors for the years 1970.0, 1980.0, 1990.0, 2000.0, and 2010.0"
   ]
  },
  {
   "cell_type": "code",
   "execution_count": 13,
   "metadata": {},
   "outputs": [
    {
     "name": "stdout",
     "output_type": "stream",
     "text": [
      "+------+--------+------------------+\n",
      "|  Year|features|        prediction|\n",
      "+------+--------+------------------+\n",
      "|1970.0|[1970.0]| 7.279777564516735|\n",
      "|1980.0|[1980.0]|10.619573843158264|\n",
      "|1990.0|[1990.0]|13.959370121799793|\n",
      "|2000.0|[2000.0]|17.299166400441322|\n",
      "|2010.0|[2010.0]| 20.63896267908285|\n",
      "+------+--------+------------------+\n",
      "\n"
     ]
    }
   ],
   "source": [
    "# Your code here\n",
    "df = [(1970.0,),(1980.0,),(1990.0,),(2000.0,),(2010.0,)]\n",
    "df1 = spark.createDataFrame(df,['Year'])\n",
    "log_fitted_trans_pipe.transform(df1).show()"
   ]
  },
  {
   "cell_type": "markdown",
   "metadata": {},
   "source": [
    "##### Grading Feedback Cell"
   ]
  },
  {
   "cell_type": "markdown",
   "metadata": {},
   "source": [
    "# Climate Change"
   ]
  },
  {
   "cell_type": "markdown",
   "metadata": {},
   "source": [
    "## Question 7 Load the global warming data (5 pts)\n",
    "- Read the globalWarm.txt file into a spark data frame named global_warm_df using only spark.  The columns should be named as per the header in the txt file.\n",
    "- Print the first 5 rows of global_warm_df \n",
    "- Print the shape of global_warm_df (num_rows, num_cols)\n",
    "- Make sure to use the get_training_filename function above to obtain the file name based on your runtime environment\n",
    "- A data description follows:\n",
    "<ul>\n",
    "<li/>Temp = annual surface temperature measured in 1/100<sup>o</sup> C   over the 1950-1980 mean.  \n",
    "<li/>Solar = annual mean intensity of sunlight piercing the atmosphere\n",
    "<li/>CO2 = annual average fraction CO<sub>2</sub> in atmosphere (#molecules/#molecules of dry air) \n",
    "<li/>IceShelf = sea ice in 1MM square miles  hypothesized to reflect heat\n",
    "<li/>Transmission = volcanic MLO transmission data where eruptions release greenhouse gases but also decrease the temperature\n",
    "</ul>"
   ]
  },
  {
   "cell_type": "code",
   "execution_count": 14,
   "metadata": {},
   "outputs": [
    {
     "name": "stdout",
     "output_type": "stream",
     "text": [
      "+----+----+------+-------+------------+--------+\n",
      "|Year|Temp|   CO2|  Solar|Transmission|IceShelf|\n",
      "+----+----+------+-------+------------+--------+\n",
      "|1979|   8|336.67|1366.43| 0.928466667|     7.2|\n",
      "|1980|  19|338.57|1366.51| 0.929666667|    7.85|\n",
      "|1981|  26|339.92|1366.51| 0.929766667|    7.25|\n",
      "|1982|   4| 341.3|1366.16| 0.853066667|    7.45|\n",
      "|1983|  25|342.71|1366.18| 0.897716667|    7.52|\n",
      "+----+----+------+-------+------------+--------+\n",
      "only showing top 5 rows\n",
      "\n",
      "None\n",
      "(32, 6)\n"
     ]
    }
   ],
   "source": [
    "# your code here\n",
    "def split(line):\n",
    "    x= line.split(\"\\t\")\n",
    "    return ((x[0],x[1],x[2],x[3],x[4],x[5]))\n",
    "\n",
    "global_warm_df = sc.textFile(get_training_filename(\"globalWarm.txt\"))\n",
    "\n",
    "header = global_warm_df.first()\n",
    "global_warm_df = global_warm_df.filter(lambda x: x != header)\n",
    "\n",
    "global_warm_df = global_warm_df.map(split)\n",
    "global_warm_df = spark.createDataFrame(global_warm_df,['Year','Temp','CO2','Solar','Transmission','IceShelf'])\n",
    "\n",
    "print(global_warm_df.show(5))\n",
    "\n",
    "rows = global_warm_df.count()\n",
    "columns = len(global_warm_df.columns)\n",
    "shape = (rows, columns)\n",
    "print(shape)"
   ]
  },
  {
   "cell_type": "markdown",
   "metadata": {},
   "source": [
    "##### Grading Feedback Cell"
   ]
  },
  {
   "cell_type": "markdown",
   "metadata": {},
   "source": [
    "## Question 8 Global Warming Data Exploration (5 pts)\n",
    "- Create a temperature vs. year scatter plot from global_warm_df\n",
    "- You may use packages outside of spark for this question"
   ]
  },
  {
   "cell_type": "code",
   "execution_count": 15,
   "metadata": {},
   "outputs": [
    {
     "data": {
      "text/plain": [
       "Text(0.5, 1.0, 'Year vs Temp')"
      ]
     },
     "execution_count": 15,
     "metadata": {},
     "output_type": "execute_result"
    },
    {
     "data": {
      "image/png": "[encoded data removed]",
      "text/plain": [
       "<Figure size 432x288 with 1 Axes>"
      ]
     },
     "metadata": {
      "needs_background": "light"
     },
     "output_type": "display_data"
    }
   ],
   "source": [
    "# your code here\n",
    "global_warm_df = global_warm_df.withColumn(\"Year\",global_warm_df[\"Year\"].cast(IntegerType())).withColumn(\"Temp\",global_warm_df[\"Temp\"].cast(IntegerType()))\n",
    "resulting_df = global_warm_df.select(\"*\").toPandas()\n",
    "resulting_df.plot.scatter(x='Year',y='Temp')\n",
    "plt.title(\"Temp vs Year\")"
   ]
  },
  {
   "cell_type": "markdown",
   "metadata": {},
   "source": [
    "##### Grading Feedback Cell"
   ]
  },
  {
   "cell_type": "markdown",
   "metadata": {},
   "source": [
    "## Question 9 Global Warming Data Exploration (10 pts)\n"
   ]
  },
  {
   "cell_type": "markdown",
   "metadata": {},
   "source": [
    "### Question 9a (5 pts)\n",
    "- Using global_warm_df, create a pair plot of the following variables in a grid:  Temp, CO<sub>2</sub>, Solar, Transmission, and IceShelf.\n",
    "- You may use packages outside of spark for this question"
   ]
  },
  {
   "cell_type": "code",
   "execution_count": 16,
   "metadata": {},
   "outputs": [
    {
     "data": {
      "text/plain": [
       "<seaborn.axisgrid.PairGrid at 0x232827c7e08>"
      ]
     },
     "execution_count": 16,
     "metadata": {},
     "output_type": "execute_result"
    },
    {
     "data": {
      "image/png": "[encoded data removed]",
      "text/plain": [
       "<Figure size 900x900 with 30 Axes>"
      ]
     },
     "metadata": {
      "needs_background": "light"
     },
     "output_type": "display_data"
    }
   ],
   "source": [
    "# your code here\n",
    "global_warm_df = global_warm_df.withColumn(\"CO2\",global_warm_df[\"CO2\"].cast(FloatType())).withColumn(\"Solar\",global_warm_df[\"Solar\"].cast(FloatType())).withColumn(\"Transmission\",global_warm_df[\"Transmission\"].cast(FloatType())).withColumn(\"IceShelf\",global_warm_df[\"IceShelf\"].cast(FloatType()))\n",
    "resulting_df1 = global_warm_df.select([\"Temp\",\"CO2\",\"Solar\",\"Transmission\",\"IceShelf\"]).toPandas()\n",
    "\n",
    "import seaborn as sns\n",
    "sns.pairplot(resulting_df1)\n"
   ]
  },
  {
   "cell_type": "markdown",
   "metadata": {},
   "source": [
    "##### Grading Feedback Cell"
   ]
  },
  {
   "cell_type": "markdown",
   "metadata": {},
   "source": [
    "### Question 9b (5 pts)\n",
    "- Compute a correlation matrix between Temp, CO<sub>2</sub>, Solar, Transmission, and IceShelf using spark.\n",
    "- Print a labeled correlation matrix."
   ]
  },
  {
   "cell_type": "code",
   "execution_count": 17,
   "metadata": {},
   "outputs": [
    {
     "data": {
      "text/html": [
       "<div>\n",
       "<style scoped>\n",
       "    .dataframe tbody tr th:only-of-type {\n",
       "        vertical-align: middle;\n",
       "    }\n",
       "\n",
       "    .dataframe tbody tr th {\n",
       "        vertical-align: top;\n",
       "    }\n",
       "\n",
       "    .dataframe thead th {\n",
       "        text-align: right;\n",
       "    }\n",
       "</style>\n",
       "<table border=\"1\" class=\"dataframe\">\n",
       "  <thead>\n",
       "    <tr style=\"text-align: right;\">\n",
       "      <th></th>\n",
       "      <th>Temp</th>\n",
       "      <th>CO2</th>\n",
       "      <th>Solar</th>\n",
       "      <th>Transmission</th>\n",
       "      <th>IceShelf</th>\n",
       "    </tr>\n",
       "  </thead>\n",
       "  <tbody>\n",
       "    <tr>\n",
       "      <th>Temp</th>\n",
       "      <td>1.000000</td>\n",
       "      <td>0.860928</td>\n",
       "      <td>-0.340343</td>\n",
       "      <td>0.435394</td>\n",
       "      <td>-0.747425</td>\n",
       "    </tr>\n",
       "    <tr>\n",
       "      <th>CO2</th>\n",
       "      <td>0.860928</td>\n",
       "      <td>1.000000</td>\n",
       "      <td>-0.542822</td>\n",
       "      <td>0.328228</td>\n",
       "      <td>-0.846961</td>\n",
       "    </tr>\n",
       "    <tr>\n",
       "      <th>Solar</th>\n",
       "      <td>-0.340343</td>\n",
       "      <td>-0.542822</td>\n",
       "      <td>1.000000</td>\n",
       "      <td>-0.205860</td>\n",
       "      <td>0.470690</td>\n",
       "    </tr>\n",
       "    <tr>\n",
       "      <th>Transmission</th>\n",
       "      <td>0.435394</td>\n",
       "      <td>0.328228</td>\n",
       "      <td>-0.205860</td>\n",
       "      <td>1.000000</td>\n",
       "      <td>-0.302484</td>\n",
       "    </tr>\n",
       "    <tr>\n",
       "      <th>IceShelf</th>\n",
       "      <td>-0.747425</td>\n",
       "      <td>-0.846961</td>\n",
       "      <td>0.470690</td>\n",
       "      <td>-0.302484</td>\n",
       "      <td>1.000000</td>\n",
       "    </tr>\n",
       "  </tbody>\n",
       "</table>\n",
       "</div>"
      ],
      "text/plain": [
       "                  Temp       CO2     Solar  Transmission  IceShelf\n",
       "Temp          1.000000  0.860928 -0.340343      0.435394 -0.747425\n",
       "CO2           0.860928  1.000000 -0.542822      0.328228 -0.846961\n",
       "Solar        -0.340343 -0.542822  1.000000     -0.205860  0.470690\n",
       "Transmission  0.435394  0.328228 -0.205860      1.000000 -0.302484\n",
       "IceShelf     -0.747425 -0.846961  0.470690     -0.302484  1.000000"
      ]
     },
     "execution_count": 17,
     "metadata": {},
     "output_type": "execute_result"
    }
   ],
   "source": [
    "# your code here\n",
    "from pyspark.ml.stat import Correlation\n",
    "from pyspark.ml.feature import VectorAssembler\n",
    "\n",
    "# convert to vector column first\n",
    "vector = \"features\"\n",
    "assembler = VectorAssembler(inputCols=['Temp','CO2','Solar','Transmission','IceShelf'], outputCol=vector)\n",
    "df_vector = assembler.transform(global_warm_df).select(vector)\n",
    "\n",
    "# get correlation matrix\n",
    "matrix = Correlation.corr(df_vector, vector)\n",
    "x = matrix.collect()[0][\"pearson({})\".format(vector)].values\n",
    "\n",
    "x = list(x)\n",
    "x = [(x[0:5]),(x[5:10]),(x[10:15]),(x[15:20]),(x[20:25])]\n",
    "data_frame = pd.DataFrame(x,index=['Temp','CO2','Solar','Transmission','IceShelf'],columns=['Temp','CO2','Solar','Transmission','IceShelf'])\n",
    "data_frame"
   ]
  },
  {
   "cell_type": "markdown",
   "metadata": {},
   "source": [
    "##### Grading Feedback Cell"
   ]
  },
  {
   "cell_type": "markdown",
   "metadata": {},
   "source": [
    "## Question 10 Fit Linear Regression Pipelines (10 pts)"
   ]
  },
  {
   "cell_type": "markdown",
   "metadata": {},
   "source": [
    "### Question 10a (2 pts)\n",
    "Split global_warm_df into train and test splits with a 60:40 ratio.  Name the resulting data frames gw_train and gw_test.  Print the shape of of the train and test data frames.   "
   ]
  },
  {
   "cell_type": "code",
   "execution_count": 18,
   "metadata": {},
   "outputs": [
    {
     "name": "stdout",
     "output_type": "stream",
     "text": [
      "(22, 6)\n",
      "(10, 6)\n"
     ]
    }
   ],
   "source": [
    "# your code here\n",
    "gw_train, gw_test = global_warm_df.randomSplit([0.6, 0.4],seed=1)\n",
    "\n",
    "train_rows = gw_train.count()\n",
    "train_columns = len(gw_train.columns)\n",
    "gw_train_shape = (train_rows, train_columns)\n",
    "print(gw_train_shape)\n",
    "\n",
    "test_rows = gw_test.count()\n",
    "test_columns = len(gw_test.columns)\n",
    "gw_test_shape = (test_rows, test_columns)\n",
    "print(gw_test_shape)"
   ]
  },
  {
   "cell_type": "markdown",
   "metadata": {},
   "source": [
    "##### Grading Feedback Cell"
   ]
  },
  {
   "cell_type": "markdown",
   "metadata": {},
   "source": [
    "### Question 10b (6 pts)\n",
    "- Create a spark pipeline named global_warm_pipe to perform linear regression.\n",
    "- Use the global_warm_df data frame\n",
    "- Fit a pipeline on the temp column as the target and CO2 as the feature.  Name the resulting fitted pipeline fitted_global_warm_pipe.\n",
    "- Fit another pipeline on the temp column as the target and all other columns except year as the features.  Name the resulting fitted pipeline fitted_global_warm_pipe_2."
   ]
  },
  {
   "cell_type": "code",
   "execution_count": 19,
   "metadata": {},
   "outputs": [],
   "source": [
    "# your code here\n",
    "va1 = feature.VectorAssembler(inputCols=['CO2'], outputCol='features')\n",
    "lr1 = regression.LinearRegression(featuresCol='features', labelCol='Temp')\n",
    "global_warm_pipe = Pipeline(stages=[va1, lr1])\n",
    "fitted_global_warm_pipe = global_warm_pipe.fit(gw_train)\n",
    "\n",
    "va2 = feature.VectorAssembler(inputCols=['CO2','Solar','Transmission','IceShelf'], outputCol='features')\n",
    "lr2 = regression.LinearRegression(featuresCol='features', labelCol='Temp')\n",
    "global_warm_pipe_2 = Pipeline(stages=[va2, lr2])\n",
    "fitted_global_warm_pipe_2 = global_warm_pipe_2.fit(gw_train)"
   ]
  },
  {
   "cell_type": "markdown",
   "metadata": {},
   "source": [
    "##### Grading Feedback Cell"
   ]
  },
  {
   "cell_type": "markdown",
   "metadata": {},
   "source": [
    "### Question 10c (2 pts)\n",
    "- Print the linear regression coefficient(s) in the linear regression object in each fitted model\n",
    "- Print the linear regression Y intercept in the linear regression object in each fitted model"
   ]
  },
  {
   "cell_type": "code",
   "execution_count": 20,
   "metadata": {},
   "outputs": [
    {
     "name": "stdout",
     "output_type": "stream",
     "text": [
      "fitted_global_warm_pipe model:\n",
      "[1.0179070539143649]\n",
      "-332.2212420396796\n",
      "\n",
      "fitted_global_warm_pipe_2 model:\n",
      "[1.0088050768195247,8.94427133618214,130.28982792028538,-1.6516696367345527]\n",
      "-12655.624397661475\n"
     ]
    }
   ],
   "source": [
    "# your code here\n",
    "print('fitted_global_warm_pipe model:')\n",
    "print(fitted_global_warm_pipe.stages[1].coefficients)\n",
    "print(fitted_global_warm_pipe.stages[1].intercept)\n",
    "\n",
    "print('\\nfitted_global_warm_pipe_2 model:')\n",
    "print(fitted_global_warm_pipe_2.stages[1].coefficients)\n",
    "print(fitted_global_warm_pipe_2.stages[1].intercept)"
   ]
  },
  {
   "cell_type": "markdown",
   "metadata": {},
   "source": [
    "##### Grading Feedback Cell"
   ]
  },
  {
   "cell_type": "markdown",
   "metadata": {},
   "source": [
    "### Question 11 Test the linear regression pipeline (10 pts)"
   ]
  },
  {
   "cell_type": "markdown",
   "metadata": {},
   "source": [
    "### Question 11a (5 pts)\n",
    "- Compute mean squared error (MSE) using the transform method on each fitted model.\n",
    "- Print the resulting MSEs."
   ]
  },
  {
   "cell_type": "code",
   "execution_count": 21,
   "metadata": {},
   "outputs": [
    {
     "name": "stdout",
     "output_type": "stream",
     "text": [
      "+---------------------------+\n",
      "|fitted_global_warm_pipe_mse|\n",
      "+---------------------------+\n",
      "|         108.09570620456793|\n",
      "+---------------------------+\n",
      "\n",
      "+-----------------------------+\n",
      "|fitted_global_warm_pipe_2_mse|\n",
      "+-----------------------------+\n",
      "|            87.47885999179431|\n",
      "+-----------------------------+\n",
      "\n"
     ]
    }
   ],
   "source": [
    "# your code here\n",
    "fitted_global_warm_pipe.transform(gw_test)\n",
    "mse1 = fn.mean((fn.col('Temp') - fn.col('prediction'))**2).alias('fitted_global_warm_pipe_mse')\n",
    "fitted_global_warm_pipe.transform(gw_test).select(mse1).show()\n",
    "\n",
    "fitted_global_warm_pipe_2.transform(gw_test)\n",
    "mse2 = fn.mean((fn.col('Temp') - fn.col('prediction'))**2).alias('fitted_global_warm_pipe_2_mse')\n",
    "fitted_global_warm_pipe_2.transform(gw_test).select(mse2).show()"
   ]
  },
  {
   "cell_type": "markdown",
   "metadata": {},
   "source": [
    "##### Grading Feedback Cell"
   ]
  },
  {
   "cell_type": "markdown",
   "metadata": {},
   "source": [
    "### Question 11b (5 pts)\n",
    "- Which of the 2 models have higher performance.  In the cell below, describe why you think the better performing model made the model perform better."
   ]
  },
  {
   "cell_type": "markdown",
   "metadata": {},
   "source": [
    "**The fitted_global_warm_pipe_2 has a higher performance. Firstly, the mean square error of this model is lower than the fitted_global_warm_pipe which indicates that this model is better. Also, in addition to CO2 the other features like Transmission, Solar and IceShelf are making the model perform better i.e they are affecting the Temperature as well.**"
   ]
  },
  {
   "cell_type": "markdown",
   "metadata": {},
   "source": [
    "### Question 12 Inference (10 pts)"
   ]
  },
  {
   "cell_type": "markdown",
   "metadata": {},
   "source": [
    "### Question 12a Data Scaling (5 pts)\n",
    "Add data scaling to fitted_global_warm_pipe_2 above. Name the resulting fitted model fitted_global_warm_pipe_3.  Print the resulting fitted model coefficients such that each coefficient is clearly labeled with it's corresponding feature name."
   ]
  },
  {
   "cell_type": "code",
   "execution_count": 22,
   "metadata": {},
   "outputs": [],
   "source": [
    "# your code here\n",
    "from pyspark.ml.feature import MinMaxScaler\n",
    "\n",
    "va3 = feature.VectorAssembler(inputCols=['CO2','Solar','Transmission','IceShelf'], outputCol='features')\n",
    "scaler = MinMaxScaler(inputCol=\"features\",outputCol=\"features1\")\n",
    "lr3 = regression.LinearRegression(featuresCol='features1', labelCol='Temp')\n",
    "global_warm_pipe_3 = Pipeline(stages=[va3,scaler,lr3])\n",
    "fitted_global_warm_pipe_3 = global_warm_pipe_3.fit(gw_train)"
   ]
  },
  {
   "cell_type": "code",
   "execution_count": 23,
   "metadata": {},
   "outputs": [
    {
     "name": "stdout",
     "output_type": "stream",
     "text": [
      "Intercept: 1.315977964286957\n",
      "CO2: 49.99637715900296\n",
      "Solar: 11.09080913468302\n",
      "Transmission: 10.331981577371351\n",
      "IceShelf: -5.912977173528389\n"
     ]
    }
   ],
   "source": [
    "print('Intercept:',fitted_global_warm_pipe_3.stages[2].intercept)\n",
    "print('CO2:',fitted_global_warm_pipe_3.stages[2].coefficients[0])\n",
    "print('Solar:',fitted_global_warm_pipe_3.stages[2].coefficients[1])\n",
    "print('Transmission:',fitted_global_warm_pipe_3.stages[2].coefficients[2])\n",
    "print('IceShelf:',fitted_global_warm_pipe_3.stages[2].coefficients[3])"
   ]
  },
  {
   "cell_type": "markdown",
   "metadata": {},
   "source": [
    "### Question 12b Inference (5 pts)  \n",
    "Use the coefficients printed above to gain insights into the global warming problem. Describe your inference conclusions in the cell below."
   ]
  },
  {
   "cell_type": "markdown",
   "metadata": {},
   "source": [
    "**Coefficient inference conclusions here: CO2, Solar and Transmision features are positively and linearly correlated to the Temperature i.e. the temperature increases if atleast one of these feature values increase , while IceShelf feature is negatively but linearly correlated to the Temperature i.e. temperaure decreases when IceShelf increases.**"
   ]
  },
  {
   "cell_type": "markdown",
   "metadata": {},
   "source": [
    "##### Grading Feedback Cell"
   ]
  }
 ],
 "metadata": {
  "celltoolbar": "Edit Metadata",
  "kernelspec": {
   "display_name": "Python 3",
   "language": "python",
   "name": "python3"
  },
  "language_info": {
   "codemirror_mode": {
    "name": "ipython",
    "version": 3
   },
   "file_extension": ".py",
   "mimetype": "text/x-python",
   "name": "python",
   "nbconvert_exporter": "python",
   "pygments_lexer": "ipython3",
   "version": "3.7.5"
  }
 },
 "nbformat": 4,
 "nbformat_minor": 2
}
