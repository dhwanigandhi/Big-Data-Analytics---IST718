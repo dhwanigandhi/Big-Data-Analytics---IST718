{
 "cells": [
  {
   "cell_type": "markdown",
   "metadata": {},
   "source": [
    "##### Grading Feedback Cell\n"
   ]
  },
  {
   "cell_type": "markdown",
   "metadata": {},
   "source": [
    "# IST 718: Big Data Analytics\n",
    "\n",
    "- Prepared by: Prof Willard Williamson <wewillia@syr.edu>\n",
    "- Modified by: Prof Humayun Khan <hhkhan@syr.edu>\n",
    "- Faculty Assistant: Eashani Deorukhkar <edeorukh@syr.edu>\n",
    "- Faculty Assistant: Yash Kapadia <ykapadia@syr.edu>\n",
    "\n",
    "## General instructions:\n",
    "\n",
    "- You are welcome to discuss the problems with your classmates but __you are not allowed to copy any part of your answers from your classmates.  Short code snippets are allowed from the internet.  Code from the class text books or class provided code can be copied in its entirety.__\n",
    "- __Do not change homework file names.__ The FAs and the professor use these names to grade your homework.  Changing file names may result in a point reduction penalty.\n",
    "- There could be tests in some cells (i.e., `assert` and `np.testing.` statements). These tests (if present) are used to grade your answers. **However, the professor and FAs could use __additional__ test for your answer. Think about cases where your code should run even if it passess all the tests you see.**\n",
    "- Before submitting your work, remember to check for run time errors with the following procedure:\n",
    "`Kernel`$\\rightarrow$`Restart and Run All`.  All runtime errors will result in a minimum penalty of half off.\n",
    "- Data Bricks is the official class runtime environment so you should test your code on Data Bricks before submission.  If there is a runtime problem in the grading environment, we will try your code on Data Bricks before making a final grading decision.\n",
    "- All plots shall include a title, and axis labels.\n",
    "- Grading feedback cells are there for graders to provide feedback to students.  Don't change or remove grading feedback cells."
   ]
  },
  {
   "cell_type": "markdown",
   "metadata": {},
   "source": [
    "# Part 0: The Reduce Method: Question 1 (10 pts)\n",
    "Starting with the rdd class presented in lecture (maintaining all class method names), implement a my_reduce method in the rdd class.  Your implementation shall maintain rdd class immutability.  Your my_reduce method return type should be consistent with the return type in the real Spark reduce method. Do some research and see what the Spark reduce return type would be.  <br>\n",
    "\n",
    "Implement a function named times_3 which returns its input multiplied by 3. Implement a function named is_even that returns true if it's input is even, false otherwise.  Implement a my_sum function that returns the sum of its 2 inputs.  <br>\n",
    "\n",
    "Your overall implementation should not rely on receiving specific data types as inputs.  For example, the plus operator works on more than just ints and floats."
   ]
  },
  {
   "cell_type": "markdown",
   "metadata": {},
   "source": [
    "***Name:Dhwani Rekhang Gandhi\n",
    "    NetID: dgandhi***"
   ]
  },
  {
   "cell_type": "code",
   "execution_count": 1,
   "metadata": {},
   "outputs": [],
   "source": [
    "# your code here\n",
    "import numpy as np\n",
    "\n",
    "def times_3(el):\n",
    "    return el * 3\n",
    "\n",
    "def is_even(el):\n",
    "    if el % 2 == 0:\n",
    "        return True\n",
    "    else:\n",
    "        return False\n",
    "    \n",
    "def my_sum(el1, el2):\n",
    "    return el1+el2\n",
    "\n",
    "\n",
    "class rdd:\n",
    "    def __init__(self, arg_array):\n",
    "        self.local_array = arg_array\n",
    "    \n",
    "    def my_map(self, fun):\n",
    "        if len(self.local_array) < 1:\n",
    "            raise Exception(\"my_map: len(local_array) < 1\")\n",
    "        mapped = np.empty_like(self.local_array)\n",
    "        for i in range(0,len(self.local_array)):\n",
    "            mapped[i] = fun(self.local_array[i])\n",
    "        return rdd(mapped)\n",
    "    \n",
    "    def my_filter(self, fun):\n",
    "        transformed = []\n",
    "        for el in self.local_array:\n",
    "            if fun(el):\n",
    "                transformed.append(el)      \n",
    "        return rdd(np.array(transformed))\n",
    "\n",
    "    def my_reduce(self, fun):\n",
    "        if type(self.local_array[1])==str:\n",
    "            el1=str()\n",
    "        else:\n",
    "            el1=int()\n",
    "        for el2 in self.local_array:\n",
    "            x = fun(el1,el2)\n",
    "            el1 = x\n",
    "        return el1\n"
   ]
  },
  {
   "cell_type": "code",
   "execution_count": 2,
   "metadata": {
    "scrolled": true
   },
   "outputs": [
    {
     "name": "stdout",
     "output_type": "stream",
     "text": [
      "<class 'numpy.int32'>\n",
      "7350\n"
     ]
    }
   ],
   "source": [
    "# Simple test code\n",
    "test_rdd = rdd(np.arange(100))\n",
    "result = test_rdd.my_map(times_3).my_filter(is_even).my_reduce(my_sum)\n",
    "print(type(result))\n",
    "print(result)\n",
    "\n",
    "# secret grading test code follows\n"
   ]
  },
  {
   "cell_type": "markdown",
   "metadata": {},
   "source": [
    "##### Grading Feedback Cell"
   ]
  }
 ],
 "metadata": {
  "kernelspec": {
   "display_name": "Python 3",
   "language": "python",
   "name": "python3"
  },
  "language_info": {
   "codemirror_mode": {
    "name": "ipython",
    "version": 3
   },
   "file_extension": ".py",
   "mimetype": "text/x-python",
   "name": "python",
   "nbconvert_exporter": "python",
   "pygments_lexer": "ipython3",
   "version": "3.7.5"
  }
 },
 "nbformat": 4,
 "nbformat_minor": 2
}
